{
 "cells": [
  {
   "cell_type": "code",
   "execution_count": 1,
   "metadata": {},
   "outputs": [],
   "source": [
    "import pandas as pd\n"
   ]
  },
  {
   "cell_type": "code",
   "execution_count": 2,
   "metadata": {},
   "outputs": [
    {
     "name": "stdout",
     "output_type": "stream",
     "text": [
      "       住所CD  都道府県CD  市区町村CD      町域CD      郵便番号  事業所フラグ  廃止フラグ 都道府県  都道府県カナ  \\\n",
      "0  60860200       1    1101  11010000  060-8602       1      0  北海道  ホッカイドウ   \n",
      "1  60840600       1    1101  11010000  060-8406       1      0  北海道  ホッカイドウ   \n",
      "2  64863300       1    1101  11010000  064-8633       1      0  北海道  ホッカイドウ   \n",
      "3  60855200       1    1101  11010000  060-8552       1      0  北海道  ホッカイドウ   \n",
      "4  60872100       1    1101  11010000  060-8721       1      0  北海道  ホッカイドウ   \n",
      "5  60850400       1    1101  11010000  060-8504       1      0  北海道  ホッカイドウ   \n",
      "\n",
      "     市区町村  ...  町域カナ    町域補足 京都通り名 字丁目  字丁目カナ  補足               事業所名  \\\n",
      "0  札幌市中央区  ...     　  （該当なし）   NaN NaN    NaN NaN   株式会社　朝日新聞社　北海道支社   \n",
      "1  札幌市中央区  ...     　  （該当なし）   NaN NaN    NaN NaN      北海道テレビ放送　株式会社   \n",
      "2  札幌市中央区  ...     　  （該当なし）   NaN NaN    NaN NaN           株式会社　ビッグ   \n",
      "3  札幌市中央区  ...     　  （該当なし）   NaN NaN    NaN NaN  損害保険ジャパン日本興亜　株式会社   \n",
      "4  札幌市中央区  ...     　  （該当なし）   NaN NaN    NaN NaN    大丸　株式会社　紙包材営業本部   \n",
      "5  札幌市中央区  ...     　  （該当なし）   NaN NaN    NaN NaN     富士通　株式会社　北海道支社   \n",
      "\n",
      "                         事業所名カナ                     事業所住所 新住所CD  \n",
      "0  カブシキカイシヤ　アサヒシンブンシヤ　ホツカイドウシシヤ    北１条西１丁目６番地さっぽろ創生スクエア９階   NaN  \n",
      "1        ホツカイドウテレビホウソウ　カブシキカイシヤ                北１条西１丁目６番地   NaN  \n",
      "2                  カブシキガイシヤ　ビツグ     南４条西７丁目６番地ビッググループ本社ビル   NaN  \n",
      "3   ソンガイホケンジヤパンニツポンコウア　カブシキガイシヤ  北１条西６丁目２番地損保ジャパン日本興亜札幌ビル   NaN  \n",
      "4  ダイマル　カブシキガイシヤ　カミホウザイエイギヨウホンブ                北３条西１４丁目２番   NaN  \n",
      "5       フジツウ　カブシキガイシヤ　ホツカイドウシシヤ    北２条西４丁目１番地札幌三井ＪＰビルディング   NaN  \n",
      "\n",
      "[6 rows x 22 columns]\n"
     ]
    }
   ],
   "source": [
    "data = pd.read_csv(\"sappolo.csv\")\n",
    "data.head(22)\n",
    "print(data)"
   ]
  },
  {
   "cell_type": "code",
   "execution_count": null,
   "metadata": {},
   "outputs": [],
   "source": []
  }
 ],
 "metadata": {
  "kernelspec": {
   "display_name": "Python 3",
   "language": "python",
   "name": "python3"
  },
  "language_info": {
   "codemirror_mode": {
    "name": "ipython",
    "version": 3
   },
   "file_extension": ".py",
   "mimetype": "text/x-python",
   "name": "python",
   "nbconvert_exporter": "python",
   "pygments_lexer": "ipython3",
   "version": "3.6.5"
  }
 },
 "nbformat": 4,
 "nbformat_minor": 2
}
