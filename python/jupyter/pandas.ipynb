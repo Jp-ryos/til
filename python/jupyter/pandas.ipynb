{
 "cells": [
  {
   "cell_type": "code",
   "execution_count": 1,
   "metadata": {},
   "outputs": [],
   "source": [
    "import pandas as pd"
   ]
  },
  {
   "cell_type": "code",
   "execution_count": 4,
   "metadata": {},
   "outputs": [
    {
     "name": "stdout",
     "output_type": "stream",
     "text": [
      "   a    x label\n",
      "0  1  1.0    l1\n",
      "1  2 -1.5    l2\n",
      "2  3  2.5    l3\n"
     ]
    }
   ],
   "source": [
    "d = pd.DataFrame({\n",
    "    \"a\" : [1,2,3],\n",
    "    \"x\" : [1.0,-1.5,2.5],\n",
    "    \"label\" : [\"l1\", \"l2\", \"l3\"],\n",
    "})\n",
    "print(d)"
   ]
  },
  {
   "cell_type": "code",
   "execution_count": 5,
   "metadata": {},
   "outputs": [
    {
     "name": "stdout",
     "output_type": "stream",
     "text": [
      "0    1\n",
      "1    2\n",
      "2    3\n",
      "Name: a, dtype: int64\n"
     ]
    }
   ],
   "source": [
    "print(d.a)"
   ]
  },
  {
   "cell_type": "code",
   "execution_count": 7,
   "metadata": {},
   "outputs": [
    {
     "name": "stdout",
     "output_type": "stream",
     "text": [
      "   a    x label\n",
      "0  1  1.0    l1\n",
      "1  2 -1.5    l2\n",
      "2  3  2.5    l3\n"
     ]
    }
   ],
   "source": [
    "print(d[[\"a\",\"x\",\"label\"]])"
   ]
  },
  {
   "cell_type": "code",
   "execution_count": 8,
   "metadata": {},
   "outputs": [
    {
     "name": "stdout",
     "output_type": "stream",
     "text": [
      "   a    x label  new\n",
      "0  1  1.0    l1    1\n",
      "1  2 -1.5    l2    2\n",
      "2  3  2.5    l3    3\n"
     ]
    }
   ],
   "source": [
    "d[\"new\"] = [1,2,3]\n",
    "print(d)"
   ]
  },
  {
   "cell_type": "code",
   "execution_count": null,
   "metadata": {},
   "outputs": [],
   "source": []
  }
 ],
 "metadata": {
  "kernelspec": {
   "display_name": "Python 3",
   "language": "python",
   "name": "python3"
  },
  "language_info": {
   "codemirror_mode": {
    "name": "ipython",
    "version": 3
   },
   "file_extension": ".py",
   "mimetype": "text/x-python",
   "name": "python",
   "nbconvert_exporter": "python",
   "pygments_lexer": "ipython3",
   "version": "3.6.5"
  }
 },
 "nbformat": 4,
 "nbformat_minor": 2
}
